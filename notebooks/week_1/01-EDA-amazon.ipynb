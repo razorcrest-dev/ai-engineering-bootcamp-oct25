{
 "cells": [
  {
   "cell_type": "code",
   "execution_count": 1,
   "id": "1918d81d",
   "metadata": {},
   "outputs": [],
   "source": [
    "import pandas as pd\n",
    "import snowflake.connector\n",
    "from dotenv import load_dotenv\n",
    "import os"
   ]
  },
  {
   "cell_type": "code",
   "execution_count": 2,
   "id": "ab67b970",
   "metadata": {},
   "outputs": [],
   "source": [
    "# Load environment variables from .env file\n",
    "load_dotenv()\n",
    "\n",
    "SNOWFLAKE_ACCOUNT = os.getenv(\"SNOWFLAKE_ACCOUNT\")\n",
    "SNOWFLAKE_USER = os.getenv(\"SNOWFLAKE_USER\")\n",
    "SNOWFLAKE_PASSWORD = os.getenv(\"SNOWFLAKE_PASSWORD\")\n",
    "SNOWFLAKE_WAREHOUSE = os.getenv(\"SNOWFLAKE_WAREHOUSE\")\n",
    "SNOWFLAKE_DATABASE = os.getenv(\"SNOWFLAKE_DATABASE\")\n",
    "SNOWFLAKE_SCHEMA = os.getenv(\"SNOWFLAKE_SCHEMA\")\n",
    "SNOWFLAKE_ROLE = os.getenv(\"SNOWFLAKE_ROLE\")"
   ]
  },
  {
   "cell_type": "code",
   "execution_count": 3,
   "id": "f9d2c10d",
   "metadata": {},
   "outputs": [],
   "source": [
    "conn = snowflake.connector.connect(\n",
    "    user=SNOWFLAKE_USER,\n",
    "    password=SNOWFLAKE_PASSWORD,\n",
    "    account=SNOWFLAKE_ACCOUNT,\n",
    "    warehouse=SNOWFLAKE_WAREHOUSE,\n",
    "    database=SNOWFLAKE_DATABASE,\n",
    "    schema=SNOWFLAKE_SCHEMA,\n",
    "    role=SNOWFLAKE_ROLE\n",
    ")\n",
    "cs = conn.cursor()"
   ]
  },
  {
   "cell_type": "code",
   "execution_count": null,
   "id": "a67fa738",
   "metadata": {},
   "outputs": [
    {
     "data": {
      "text/plain": [
       "<snowflake.connector.cursor.SnowflakeCursor at 0x211e5c86810>"
      ]
     },
     "execution_count": 4,
     "metadata": {},
     "output_type": "execute_result"
    }
   ],
   "source": [
    "# Stage for plain JSON files\n",
    "# cs.execute(\"\"\"\n",
    "# CREATE OR REPLACE STAGE amazon_product_raw_stage\n",
    "# FILE_FORMAT = (TYPE = 'JSON' COMPRESSION = 'GZIP')\n",
    "# \"\"\")"
   ]
  },
  {
   "cell_type": "markdown",
   "id": "9aff25a0",
   "metadata": {},
   "source": [
    "#### load amazon electronics products metadata"
   ]
  },
  {
   "cell_type": "code",
   "execution_count": null,
   "id": "ac26e28c",
   "metadata": {},
   "outputs": [
    {
     "data": {
      "text/plain": [
       "<snowflake.connector.cursor.SnowflakeCursor at 0x211e5c86810>"
      ]
     },
     "execution_count": 5,
     "metadata": {},
     "output_type": "execute_result"
    }
   ],
   "source": [
    "# cs.execute(\"\"\"\n",
    "# CREATE OR REPLACE TABLE ANALYTICS.AMAZON.electronics_raw (raw VARIANT)\n",
    "# \"\"\")"
   ]
  },
  {
   "cell_type": "code",
   "execution_count": null,
   "id": "cb3cb3ed",
   "metadata": {},
   "outputs": [
    {
     "data": {
      "text/plain": [
       "<snowflake.connector.cursor.SnowflakeCursor at 0x211e5c86810>"
      ]
     },
     "execution_count": 6,
     "metadata": {},
     "output_type": "execute_result"
    }
   ],
   "source": [
    "# file_path = r\"C:\\Users\\dushy\\Desktop\\globe\\study\\ai\\swirl25oct\\Project1\\dataset\\amazon\\meta_Electronics.jsonl.gz\"\n",
    "# put_command = f\"PUT file://{file_path} @amazon_product_raw_stage\"\n",
    "# cs.execute(put_command)"
   ]
  },
  {
   "cell_type": "code",
   "execution_count": null,
   "id": "0ac9baea",
   "metadata": {},
   "outputs": [
    {
     "data": {
      "text/plain": [
       "<snowflake.connector.cursor.SnowflakeCursor at 0x211e5c86810>"
      ]
     },
     "execution_count": 7,
     "metadata": {},
     "output_type": "execute_result"
    }
   ],
   "source": [
    "# copy_command = \"\"\"\n",
    "# COPY INTO ANALYTICS.AMAZON.electronics_raw\n",
    "# FROM @amazon_product_raw_stage/meta_Electronics.jsonl.gz\n",
    "# FILE_FORMAT = (TYPE = 'JSON' COMPRESSION = 'GZIP')\n",
    "# ON_ERROR = 'CONTINUE'\n",
    "# \"\"\"\n",
    "# cs.execute(copy_command)"
   ]
  },
  {
   "cell_type": "code",
   "execution_count": null,
   "id": "0725f2dc",
   "metadata": {},
   "outputs": [],
   "source": []
  },
  {
   "cell_type": "markdown",
   "id": "7b042389",
   "metadata": {},
   "source": [
    "#### load amazon electronics Customer Review Data"
   ]
  },
  {
   "cell_type": "code",
   "execution_count": null,
   "id": "d3d487e8",
   "metadata": {},
   "outputs": [
    {
     "data": {
      "text/plain": [
       "<snowflake.connector.cursor.SnowflakeCursor at 0x211e5c86810>"
      ]
     },
     "execution_count": 8,
     "metadata": {},
     "output_type": "execute_result"
    }
   ],
   "source": [
    "# cs.execute(\"\"\"\n",
    "# CREATE OR REPLACE TABLE ANALYTICS.AMAZON.electronics_customer_reviews (raw VARIANT)\n",
    "# \"\"\")"
   ]
  },
  {
   "cell_type": "code",
   "execution_count": null,
   "id": "2dbc1d9b",
   "metadata": {},
   "outputs": [
    {
     "data": {
      "text/plain": [
       "<snowflake.connector.cursor.SnowflakeCursor at 0x211e5c86810>"
      ]
     },
     "execution_count": 9,
     "metadata": {},
     "output_type": "execute_result"
    }
   ],
   "source": [
    "# file_path = r\"C:\\Users\\dushy\\Desktop\\globe\\study\\ai\\swirl25oct\\Project1\\dataset\\amazon\\Electronics.jsonl.gz\"\n",
    "# put_command = f\"PUT file://{file_path} @amazon_product_raw_stage\"\n",
    "# cs.execute(put_command)"
   ]
  },
  {
   "cell_type": "code",
   "execution_count": null,
   "id": "6fe59541",
   "metadata": {},
   "outputs": [
    {
     "data": {
      "text/plain": [
       "<snowflake.connector.cursor.SnowflakeCursor at 0x211e5c86810>"
      ]
     },
     "execution_count": 10,
     "metadata": {},
     "output_type": "execute_result"
    }
   ],
   "source": [
    "# copy_command = \"\"\"\n",
    "# COPY INTO ANALYTICS.AMAZON.electronics_customer_reviews\n",
    "# FROM @amazon_product_raw_stage/Electronics.jsonl.gz\n",
    "# FILE_FORMAT = (TYPE = 'JSON' COMPRESSION = 'GZIP')\n",
    "# ON_ERROR = 'CONTINUE'\n",
    "# \"\"\"\n",
    "# cs.execute(copy_command)"
   ]
  },
  {
   "cell_type": "code",
   "execution_count": 4,
   "id": "0500ce32",
   "metadata": {},
   "outputs": [],
   "source": [
    "cs.close()\n",
    "conn.close()"
   ]
  },
  {
   "cell_type": "code",
   "execution_count": null,
   "id": "9857853b",
   "metadata": {},
   "outputs": [],
   "source": []
  }
 ],
 "metadata": {
  "kernelspec": {
   "display_name": "venv",
   "language": "python",
   "name": "python3"
  },
  "language_info": {
   "codemirror_mode": {
    "name": "ipython",
    "version": 3
   },
   "file_extension": ".py",
   "mimetype": "text/x-python",
   "name": "python",
   "nbconvert_exporter": "python",
   "pygments_lexer": "ipython3",
   "version": "3.12.10"
  }
 },
 "nbformat": 4,
 "nbformat_minor": 5
}
