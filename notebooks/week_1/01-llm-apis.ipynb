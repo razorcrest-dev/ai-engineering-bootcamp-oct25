{
 "cells": [
  {
   "cell_type": "markdown",
   "id": "4d4328e1",
   "metadata": {},
   "source": [
    "### OpenAI Client"
   ]
  },
  {
   "cell_type": "code",
   "execution_count": 2,
   "id": "b3295f65",
   "metadata": {},
   "outputs": [],
   "source": [
    "import os\n",
    "\n",
    "api_key = os.getenv(\"OPENAI_API_KEY\")\n",
    "\n",
    "if not api_key:\n",
    "    api_key=input(\"Enter your OpenAI API key: \")\n",
    "    os.environ[\"OPENAI_API_KEY\"] = api_key\n",
    "    if not api_key:\n",
    "        raise ValueError(\"No API key provided\")\n",
    "\n"
   ]
  },
  {
   "cell_type": "code",
   "execution_count": null,
   "id": "7dcae7c6",
   "metadata": {},
   "outputs": [],
   "source": [
    "import openai"
   ]
  },
  {
   "cell_type": "code",
   "execution_count": 9,
   "id": "44eaf575",
   "metadata": {},
   "outputs": [
    {
     "name": "stdout",
     "output_type": "stream",
     "text": [
      "Sure! Here are 10 random words:\n",
      "\n",
      "1. Serendipity\n",
      "2. Quasar\n",
      "3. Melancholy\n",
      "4. Ephemeral\n",
      "5. Zenith\n",
      "6. Luminous\n",
      "7. Kaleidoscope\n",
      "8. Enigma\n",
      "9. Wanderlust\n",
      "10. Solstice\n"
     ]
    }
   ],
   "source": [
    "response = openai.chat.completions.create(\n",
    "    model=\"gpt-4o-mini\",\n",
    "    messages=[\n",
    "        {\"role\":\"system\", \"content\":\"You are a helpful assistant.\"},\n",
    "        {\"role\":\"user\", \"content\":\"Can you generate 10 random words?\"}\n",
    "    ]\n",
    ")\n",
    "\n",
    "print(response.choices[0].message.content)"
   ]
  },
  {
   "cell_type": "code",
   "execution_count": 10,
   "id": "84c0a5dd",
   "metadata": {},
   "outputs": [
    {
     "data": {
      "text/plain": [
       "ChatCompletion(id='chatcmpl-CMZ7WajZW1ZdX7MpP4VmrPTVzJrWf', choices=[Choice(finish_reason='stop', index=0, logprobs=None, message=ChatCompletionMessage(content='Sure! Here are 10 random words:\\n\\n1. Serendipity\\n2. Quasar\\n3. Melancholy\\n4. Ephemeral\\n5. Zenith\\n6. Luminous\\n7. Kaleidoscope\\n8. Enigma\\n9. Wanderlust\\n10. Solstice', refusal=None, role='assistant', annotations=[], audio=None, function_call=None, tool_calls=None))], created=1759494254, model='gpt-4o-mini-2024-07-18', object='chat.completion', service_tier='default', system_fingerprint='fp_560af6e559', usage=CompletionUsage(completion_tokens=62, prompt_tokens=25, total_tokens=87, completion_tokens_details=CompletionTokensDetails(accepted_prediction_tokens=0, audio_tokens=0, reasoning_tokens=0, rejected_prediction_tokens=0), prompt_tokens_details=PromptTokensDetails(audio_tokens=0, cached_tokens=0)))"
      ]
     },
     "execution_count": 10,
     "metadata": {},
     "output_type": "execute_result"
    }
   ],
   "source": [
    "response"
   ]
  },
  {
   "cell_type": "markdown",
   "id": "4a02594a",
   "metadata": {},
   "source": [
    "### Google genai Client"
   ]
  },
  {
   "cell_type": "code",
   "execution_count": 11,
   "id": "de4552fd",
   "metadata": {},
   "outputs": [],
   "source": [
    "api_key = os.getenv(\"GOOGLE_API_KEY\")\n",
    "if not api_key:\n",
    "    api_key = input(\"Enter your Google API key: \")\n",
    "    os.environ[\"GOOGLE_API_KEY\"] = api_key\n",
    "    if not api_key:\n",
    "        raise ValueError(\"No API key provided\")"
   ]
  },
  {
   "cell_type": "code",
   "execution_count": 14,
   "id": "d4b36016",
   "metadata": {},
   "outputs": [
    {
     "name": "stdout",
     "output_type": "stream",
     "text": [
      "Okay, here are 10 random words:\n",
      "\n",
      "1.  **Labyrinth**\n",
      "2.  **Effervescent**\n",
      "3.  **Quixotic**\n",
      "4.  **Mellifluous**\n",
      "5.  **Zephyr**\n",
      "6.  **Ephemeral**\n",
      "7.  **Ubiquitous**\n",
      "8.  **Serendipity**\n",
      "9.  **Nebula**\n",
      "10. **Resplendent**\n",
      "\n"
     ]
    }
   ],
   "source": [
    "from google import genai\n",
    "\n",
    "gemini_client = genai.Client(api_key=os.getenv(\"GOOGLE_API_KEY\"))\n",
    "\n",
    "response = gemini_client.models.generate_content(\n",
    "    model=\"gemini-2.0-flash\",\n",
    "    contents=[\"You are a helpful assistant.\",\"Can you generate 10 random words?\"]\n",
    ")\n",
    "\n",
    "print(response.text)\n",
    "\n",
    "### Anthropic Client\n",
    "\n"
   ]
  },
  {
   "cell_type": "markdown",
   "id": "afed2951",
   "metadata": {},
   "source": [
    "### Groq Client"
   ]
  },
  {
   "cell_type": "code",
   "execution_count": 15,
   "id": "9c7a4cf0",
   "metadata": {},
   "outputs": [],
   "source": [
    "api_key = os.getenv(\"GROQ_API_KEY\")\n",
    "if not api_key:\n",
    "    api_key = input(\"Enter your Groq API key: \")\n",
    "    os.environ[\"GROQ_API_KEY\"] = api_key\n",
    "    if not api_key:\n",
    "        raise ValueError(\"No API key provided\")\n",
    "        "
   ]
  },
  {
   "cell_type": "code",
   "execution_count": 16,
   "id": "bff13382",
   "metadata": {},
   "outputs": [],
   "source": [
    "from groq import Groq"
   ]
  },
  {
   "cell_type": "code",
   "execution_count": 18,
   "id": "4aff51e6",
   "metadata": {},
   "outputs": [
    {
     "name": "stdout",
     "output_type": "stream",
     "text": [
      "Here are 20 random words:\n",
      "\n",
      "1. Space\n",
      "2. Helicopter\n",
      "3. Caramel\n",
      "4. Banana\n",
      "5. Guitar\n",
      "6. Snowflake\n",
      "7. Perfume\n",
      "8. Lighthouse\n",
      "9. Bicycle\n",
      "10. Pineapple\n",
      "11. Fountain\n",
      "12. Starfish\n",
      "13. Coffee\n",
      "14. Harmonica\n",
      "15. Submarine\n",
      "16. Butterfly\n",
      "17. Parakeet\n",
      "18. Tornado\n",
      "19. Strawberry\n",
      "20. Galaxy\n"
     ]
    }
   ],
   "source": [
    "client = Groq(api_key=os.getenv(\"GROQ_API_KEY\"))\n",
    "\n",
    "chat_completion = client.chat.completions.create(\n",
    "    model=\"llama-3.3-70b-versatile\",\n",
    "    messages=[\n",
    "        {\"role\":\"system\", \"content\":\"You are a helpful assistant.\"},\n",
    "        {\"role\":\"user\", \"content\":\"Can you generate 20 random words?\"}\n",
    "    ]\n",
    ")\n",
    "\n",
    "print(chat_completion.choices[0].message.content)"
   ]
  },
  {
   "cell_type": "code",
   "execution_count": null,
   "id": "b963e889",
   "metadata": {},
   "outputs": [],
   "source": []
  }
 ],
 "metadata": {
  "kernelspec": {
   "display_name": "venv",
   "language": "python",
   "name": "python3"
  },
  "language_info": {
   "codemirror_mode": {
    "name": "ipython",
    "version": 3
   },
   "file_extension": ".py",
   "mimetype": "text/x-python",
   "name": "python",
   "nbconvert_exporter": "python",
   "pygments_lexer": "ipython3",
   "version": "3.12.10"
  }
 },
 "nbformat": 4,
 "nbformat_minor": 5
}
