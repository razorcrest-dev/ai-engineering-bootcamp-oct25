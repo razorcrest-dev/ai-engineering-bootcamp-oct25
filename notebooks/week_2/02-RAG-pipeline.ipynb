{
 "cells": [
  {
   "cell_type": "code",
   "execution_count": 1,
   "id": "bc1b9d00",
   "metadata": {},
   "outputs": [],
   "source": [
    "import openai\n",
    "from qdrant_client import QdrantClient"
   ]
  },
  {
   "cell_type": "markdown",
   "id": "ee757a19",
   "metadata": {},
   "source": [
    "### Embedding function"
   ]
  },
  {
   "cell_type": "code",
   "execution_count": 2,
   "id": "9f4ddb3a",
   "metadata": {},
   "outputs": [],
   "source": [
    "def get_embedding(text, model=\"text-embedding-3-small\"):\n",
    "    response = openai.embeddings.create(\n",
    "        input=text,\n",
    "        model=model,\n",
    "    )\n",
    "    return response.data[0].embedding"
   ]
  },
  {
   "cell_type": "markdown",
   "id": "fa1d354d",
   "metadata": {},
   "source": [
    "### Retrieval function"
   ]
  },
  {
   "cell_type": "code",
   "execution_count": 3,
   "id": "135608ee",
   "metadata": {},
   "outputs": [],
   "source": [
    "qdrant_client = QdrantClient(url=\"http://localhost:6333\")\n"
   ]
  },
  {
   "cell_type": "code",
   "execution_count": 4,
   "id": "4f0f48d6",
   "metadata": {},
   "outputs": [],
   "source": [
    "def retrieve_data(query, qdrant_client, k=5):\n",
    "    query_embedding = get_embedding(query)\n",
    "    results = qdrant_client.query_points(\n",
    "        collection_name=\"Amazon-items-collection-00\",\n",
    "        query=query_embedding,\n",
    "        limit=k,\n",
    "    )\n",
    "\n",
    "    retrieved_context_ids = []\n",
    "    retrieved_context = []\n",
    "    similarity_scores = []\n",
    "\n",
    "    for result in results.points:\n",
    "        retrieved_context_ids.append(result.payload[\"parent_asin\"])\n",
    "        retrieved_context.append(result.payload[\"description\"])\n",
    "        similarity_scores.append(result.score)\n",
    "\n",
    "    return {\n",
    "        \"retrieved_context_ids\": retrieved_context_ids,\n",
    "        \"retrieved_context\": retrieved_context,\n",
    "        \"similarity_scores\": similarity_scores,\n",
    "    }"
   ]
  },
  {
   "cell_type": "code",
   "execution_count": 5,
   "id": "e433bffa",
   "metadata": {},
   "outputs": [],
   "source": [
    "# retrieve_data(\"What kind of phone headphones can I get?\", k=10).points[0].__dict__.keys()\n",
    "\n",
    "# retrieve_data(\"What kind of phone headphones can I get?\", k=10).points[0].payload.keys()"
   ]
  },
  {
   "cell_type": "code",
   "execution_count": 6,
   "id": "a0fb7e13",
   "metadata": {},
   "outputs": [],
   "source": [
    "retrieved_context = retrieve_data(\"What kind of earphones can I get?\", qdrant_client, k=10)"
   ]
  },
  {
   "cell_type": "code",
   "execution_count": 8,
   "id": "3c16ec0c",
   "metadata": {},
   "outputs": [
    {
     "data": {
      "text/plain": [
       "{'retrieved_context_ids': ['B0CBMPG524',\n",
       "  'B0B9FTVL58',\n",
       "  'B0C142QS8X',\n",
       "  'B0C6K1GQCF',\n",
       "  'B0BNHVLF7G',\n",
       "  'B0B14HTZ59',\n",
       "  'B09WCFC5D9',\n",
       "  'B0B67ZFRPC',\n",
       "  'B0B7495RL6',\n",
       "  'B0BS15TRJ3'],\n",
       " 'retrieved_context': ['Open Ear Headphones, Bluetooth 5.3 Earbuds with 60H Playtime IPX7 Waterproof Wireless Earbuds Immersive Premium Sound True Wireless Open Ear Earbuds with Earhooks for Running, Walking and Workouts 【Open-ear Design Headphones】Feature with a new generation of true open-ear wireless earbuds design, the headphones can rest gently and firmly fit your ears without entering your ear canal, which will reduce stress and hearing loss after extended wear. There is no pinching of the auricle, no blockage of the ear canal, and no pain or damage to hearing. 【Powerful Stereo Sound】Equipped with 16.2 millimeters vibrating diaphragm speaker driver, bluetooth headphones providing pure balanced audio and clarity output for all music genres with soft audio and immerse yourself in the wonderful world of music. 【Hear Your Surroundings】Open earbuds that rest on your ears without covering them, you can hear your music and your surroundings at the same time. Whether you are cycling, walking, running, working out or driving, you can always be aware of your surroundings, knowing you are safe and alert for changes in your environment. 【Comfort and Secure Fit】 The open earbuds can avoid wearing discomfort caused by in-ear or over-ear headphones. Flexible, secure-fitting silicone ear hooks and an ergonomic design ensure the bluetooth earphones stay comfortable and secure during hiking, running and other outdoor activities. 【Charge on the go & IPX7 Waterproof】Earbuds last 11 hours of playback time with one charge and can be extended up to 60 hours with a portable charging case in use. Plus, wireless headphones boast IPX7-rated protection that prevents ordinary splashing water and rain. (Please note: The charging case is not waterproof)',\n",
       "  'Wireless Earbuds, Bluetooth 5.3 Headphones with Microphone, 37H Playback LED Power Display, In-Ear Headphones Deep Bass, IPX7 Waterproof, Ultra-Light Earphones with Charging Case, Smart Touch, Sport S23-vine earbuds',\n",
       "  \"TUNEAKE Kids Headphones, Over Ear Kids Headset Stereo, Volume Limited 94dB, Foldable Adjustable Headphones for Kids, 3.5mm Jack Kid Headphones for Boys Girls Toddler School Laptop Travel Tablet, Pink 🍀LISTENING VOLUME🍀: Designed with 94dB volume-limiting technology, kids headphones offer adequate hearing protection that your child cannot listen to music or watch videos at dangerously high levels. Kids headphones for school NOTE: NO microphone, but you can still speak into the device's mic that you are plugged into and will hear you. 🍀KID-SIZED FOR COMFORT🍀: The padded headband and soft ear cups on the kids headphones boys provides a comfy fit for kids. The adjustable headband makes it well-suited to your child. With cushy, perforated mesh on the cushioned cups, your child's head will not feel hot. 🍀FOR EASY STORAGE AND PORTABILITY🍀: Children's headphones feature a folding design that can fold up to help reduce their size, easy to store in your child's backpack. The earmuffs can be rotated by 90°for easy hanging on the neck. 🍀WIDE COMPATIBILITY🍀: A 3.5mm aux port including a 120cm cable gives you the option to connect directly to devices. Compatible with all Smartphones, Chromebooks, iPads, Tablets, Computers, Laptops, and all 3.5mm audio jack devices. 🍀FUN FOR KIDS🍀: Kids headphones wired has easy controls that can allow children to use them without any difficulty. Whether your little one needs school headphones for online learning, or just to jam out to their own tunes, finding the kid headphones for them is worthwhile. Lifetime Support, Easy to Reach Customer Service.\",\n",
       "  \"TELSOR Wireless Earbuds for iPhone, Bluetooth Headphones Touch Control Stereo Sound Bluetooth Earbuds with Noise Cancelling Mic for Calls, 30H Playtime, IPX7 Waterproof Earbuds for Android, Black ♬【Bluetooth】Pair instantly with an uninterrupted and stable transmission with Bluetooth 5.1. AVRCP, HCP, HSP, and A2DP profiles are supported. The wireless earbuds are compatible with most Bluetooth enabled iPhones, Andriods, smart TVs, computers, etc. Each wireless earbuds will pair with each other when they are removed from the charging case. From here, enable Bluetooth on your chosen device and pair with the headphones. ♬【Clear Call & Sound quality】Each wireless earbuds features a 10mm diameter speaker and 2 microphones to reduce ambient noise and transmit your voice for a clear call in any environment. For the music enjoyers, these wireless earbuds offer a deep bass for an immersive musical experience. ♬【Long Battery Life & Quick Charge】Get up to 6 hours of playtime on a single charge or up to 30 hours when using the charging case. A full charge takes 2 hours in the charging case. The charging case itself is charged using USB-C. ♬【IPX7 Waterproof & Ergonomic Design】TELSOR wireless earbuds feature IPX7 Waterproof nano-coating to effortlessly protect the wireless earbuds from rain and sweat alike. The lightweight, ergonomic design fits in the ear without adding any discomfort or stress, making them perfect for offices, runs, and workouts. ♬【Smart Touch Control】There won't be a need to reach for your phone when using these wireless earbuds. Tapping the wireless earbuds enables you access to volume control, pause/play/skip, answer/hang up, and voice assistant. ♬【Ideal Gift】TELSOR Wireless Earbuds are great for friends and family as Birthday gifts, Valentine's Day gift etc.\",\n",
       "  'Siniffo Upgraded Bone Conduction Headphones Wireless Bluetooth 5.3 Open Ear Sports Earphones with Mic, Sweat Resistant Headset for Workout, Running, Gym, Hiking, Driving, Cycling, Commuting 【Premium Sound Quality】Experience premium audio delivered through your cheekbone with our bone conduction technology. Engineered with both audio enhancement technology and exclusive OT closed anti-leakage technology, X15 bone conduction headphones brings the immersive listening experience from deep, rich bass to accurate mids and crisp, clean highs, you’ll hear every note with a new sense of clarity. 【Extreme Comfort & Secure Fit】X15 workout headphones adopt a open-ear design with an ergonomic scientific arc, combined with a high-performance vibrator and an ultra-lightweight design. It is comfortable and painless to wear for a long time while ensuring a secure fit. In addition, X15 headphones feature IP56 waterproof rating for outdoor and indoor sports, such as running, hiking and even intense workout, etc. Recommended for small head sizes and for those who prefer a more snug fit. 【Bluetooth 5.3 & HD Call】X15 Bluetooth open-ear headphones deliver a more stable and faster wireless connection to your devices and up to 30% lower gaming latency. X15 also features noise-canceling microphone for clear and stable voice communication. Independent button controls allow you to easily adjust volume, play music, answer or end\\xa0calls, activate Siri, or switch between music and game mode. 【8-Hour Battery Life & Quick Charge】Strong battery supports 8 hours of continuous music and calls. Siniffo X15 running headphones adopt Type-C quick charge and feature a 10-minute quick charge for up to 1.5 hours of listening. Enjoy your favorite music all day long! 【What You Get】1*Bone Conduction Headphones, 1*Type-C Quick Charging Cable, 4*Sponge Earplugs, 1* Manual, 30-day Return and 2-year Warranty. We care about all details, each gym headphones is tested manually. For those looking for high-quality sport headphones at a reasonable cost, we believe Siniffo X15 headset is a good choice. If you have any questions, please do not hesitate to contact us.',\n",
       "  '8 Pairs Powerbeats Pro Ear Tips Buds, 4 Size Replacement Soft Flexible Fit in Case Noise Reduce Silicone Rubber Earbuds Eartips Wing Skin Accessories Compatible with Beats Flex/BeatsX - White 【 Compatibility 】 These ear tips compatible with Powerbeats Pro, compatible with Powerbeats High Performance, compatible with Beats Flex, compatible with Beats X, compatible with Beats Fit Pro, compatible with Beats Studio Buds. 【 Material 】 Made of soft flexible premium silicone, provide more noise isolation, in-ear stability and a lasting comfort. And They are Water-washable, durable, flexible, removable and replaceable. 【 Nice Sound Quality 】 These ear tips can offer a good seal to reduce some of the outside noise and allow you to focus on your audio, provide a better sound listening experience. 【 More Size Options, Better Fit 】 Small Medium Large and Double Flange 4 different sizes, complies comfortably with your individual ear shape. Fit in the charging case, no need to remove the foam when you put earphone into the charging case. 【 Package include 】 8 pairs replacement ear tips, tips only, earphone not include.',\n",
       "  \"RUSAM GA33 A Enhanced Edition TWS Game Earbuds True Wireless Stereo Headset Low Latency Bluetooth 5.2 Headphones Wireless Deep Bass Touch Control Earbuds HD Physical Noise Cancellation Earphones,White 【Advanced Bluetooth 5.2 Technology】RUSAM GA33 A built-in Bluetooth 5.2 chip,stable connection within 10 meters, Even if you cover your ears with your hands, you won't be disconnected,smooth like a wired headset. 【Game/Music Mode】The game/music mode can be switched by key operation to meet the needs of different usage scenarios.In music mode,13mm Dual Coil Dynamic Drivers，strong bass effect,heavy and low frequency all around the ear, shock more penetrating. 【Low Latency Game Mode】45ms low latency,there is a sound effect adjustment function in the game mode,and the subtle sound can also be captured to clearly distinguish the enemy's position. 【Long battery life】Built-in 40MAH battery in the headset, 400MAH battery in the charging box, can listen to music continuously for 3-4 hours, and the charging box can be charged 4-5 times,and the play time or music time can be up to 14 hours with the charging compartment. 【Cool appearance】Cool design,supplemented by various RGB lights,beautiful colors.In the Enhanced Edition,the earphones and charging box have increased surface treatment, more delicate touch, and more enhanced details.\",\n",
       "  'QearFun Cat Earbuds for Kids, Kawakii Wired Earbud & in-Ear Headphones Gift for School Girls and Boys with Microphone and Lovely Earphones Storage Case(Blue) ',\n",
       "  'Cleaner Kit for AirPods Pro, 4 in 1 Earbuds Cleaning Pen, Bluetooth Headphone Cleaning Pen for Airpods, Airpods Pro 1 2 3 and Other Earphones, Keyboard, Mouse, Cellphones, Laptop, Camera (White) 【4-IN-1 DESIGN】The airpod cleaning kit is divided into 4 parts - flocking sponge, high-density brush, long-bristle brush and metal tip, which can deeply clean the earbuds and earphone charging compartment at different angles, making your earphones like new 【MULTIFUNCTIONAL CLEANING KIT】The metal tip can precisely remove the dirt in the sound hole of the earbuds, and the high-density brush under the cleaning pen tip is used to clean the fine dust. There are also flocking sponge ends and long-bristle brush ends, the earphone charging compartment can also be well cleaned, and the long-bristle end is suitable for cleaning computer peripherals such as keyboards (When replacing the flocking sponge and long-bristle brush, please rotate and pull out out) 【SAFE AND HEALTHY】 The brush end is made of environmentally friendly and soft materials, which will not damage the earbuds. Frequent cleaning of the earphones and keeping the earbuds clean can effectively improve the wearing experience and make the earphones more comfortable to wear for a long time 【PORTABLE】Segmented pen cover design, multiple functions in one, the airpods pro cleaner kit is small in size and light in weight, only the size of a pen, it can be easily put into a pocket, easy to store and carry out 【UNIVERSAL】This cleaning pen can not only clean the earphones, but also the earphone charging case, mobile phone, keyboard, mouse, microphone, camera, laptop, etc. Compatible with cleaning most bluetooth earphones, TWS on the market (If you have any questions, you can contact us by Amazon mail, to provide you with better after-sales service)',\n",
       "  'LENRUE Bluetooth Speakers, Waterproof Portable Speakers with TWS, 24 Playtime, Stereo Sound, Wireless for Home Shower Pool Beach Outdoor ✅ ♫Loud and Crisp Sound - Upgrade 2 high quality horns, plays very clear and it can get very loud. Wthout any distortion and noise. ✅ ♫IPX6 Waterproof - Portable bluetooth speakers updates IPX6 waterproof and dustproof, portable for shower, pool, beach. The speaker cannot be completely immersed in water. ✅ ♫Portable & Hanging - Equipped with a detachable lanyard, the portable speaker can be hung on bicycles, motorcycles, backpacks, and tents. The speaker is an ideal gift. ✅ ♫Wireless Stereo Pairing - Bluetooth speakers perform powerful surround sound by connecting 2 speakers together. ✅ ♫ Multi Play Way - Wireless speakers adopt seamless Bluetooth 5.0. Support TF and AUX. Portable for phones, tablets, laptops.'],\n",
       " 'similarity_scores': [0.5232439,\n",
       "  0.5121211,\n",
       "  0.4923594,\n",
       "  0.48131505,\n",
       "  0.46068424,\n",
       "  0.43187937,\n",
       "  0.42842007,\n",
       "  0.4128428,\n",
       "  0.39918065,\n",
       "  0.38329098]}"
      ]
     },
     "execution_count": 8,
     "metadata": {},
     "output_type": "execute_result"
    }
   ],
   "source": [
    "retrieved_context"
   ]
  },
  {
   "cell_type": "markdown",
   "id": "78eb7232",
   "metadata": {},
   "source": [
    "### Format retrieved context function"
   ]
  },
  {
   "cell_type": "code",
   "execution_count": 11,
   "id": "6fe77d72",
   "metadata": {},
   "outputs": [],
   "source": [
    "def process_context(context):\n",
    "\n",
    "    formatted_context = \"\"\n",
    "\n",
    "    for id, chunk in zip(context[\"retrieved_context_ids\"], context[\"retrieved_context\"]):\n",
    "        formatted_context += f\"- {id}: {chunk}\\n\"\n",
    "    \n",
    "    return formatted_context\n",
    "\n"
   ]
  },
  {
   "cell_type": "code",
   "execution_count": 12,
   "id": "2f68cd06",
   "metadata": {},
   "outputs": [
    {
     "name": "stdout",
     "output_type": "stream",
     "text": [
      "- B0CBMPG524: Open Ear Headphones, Bluetooth 5.3 Earbuds with 60H Playtime IPX7 Waterproof Wireless Earbuds Immersive Premium Sound True Wireless Open Ear Earbuds with Earhooks for Running, Walking and Workouts 【Open-ear Design Headphones】Feature with a new generation of true open-ear wireless earbuds design, the headphones can rest gently and firmly fit your ears without entering your ear canal, which will reduce stress and hearing loss after extended wear. There is no pinching of the auricle, no blockage of the ear canal, and no pain or damage to hearing. 【Powerful Stereo Sound】Equipped with 16.2 millimeters vibrating diaphragm speaker driver, bluetooth headphones providing pure balanced audio and clarity output for all music genres with soft audio and immerse yourself in the wonderful world of music. 【Hear Your Surroundings】Open earbuds that rest on your ears without covering them, you can hear your music and your surroundings at the same time. Whether you are cycling, walking, running, working out or driving, you can always be aware of your surroundings, knowing you are safe and alert for changes in your environment. 【Comfort and Secure Fit】 The open earbuds can avoid wearing discomfort caused by in-ear or over-ear headphones. Flexible, secure-fitting silicone ear hooks and an ergonomic design ensure the bluetooth earphones stay comfortable and secure during hiking, running and other outdoor activities. 【Charge on the go & IPX7 Waterproof】Earbuds last 11 hours of playback time with one charge and can be extended up to 60 hours with a portable charging case in use. Plus, wireless headphones boast IPX7-rated protection that prevents ordinary splashing water and rain. (Please note: The charging case is not waterproof)\n",
      "- B0B9FTVL58: Wireless Earbuds, Bluetooth 5.3 Headphones with Microphone, 37H Playback LED Power Display, In-Ear Headphones Deep Bass, IPX7 Waterproof, Ultra-Light Earphones with Charging Case, Smart Touch, Sport S23-vine earbuds\n",
      "- B0C142QS8X: TUNEAKE Kids Headphones, Over Ear Kids Headset Stereo, Volume Limited 94dB, Foldable Adjustable Headphones for Kids, 3.5mm Jack Kid Headphones for Boys Girls Toddler School Laptop Travel Tablet, Pink 🍀LISTENING VOLUME🍀: Designed with 94dB volume-limiting technology, kids headphones offer adequate hearing protection that your child cannot listen to music or watch videos at dangerously high levels. Kids headphones for school NOTE: NO microphone, but you can still speak into the device's mic that you are plugged into and will hear you. 🍀KID-SIZED FOR COMFORT🍀: The padded headband and soft ear cups on the kids headphones boys provides a comfy fit for kids. The adjustable headband makes it well-suited to your child. With cushy, perforated mesh on the cushioned cups, your child's head will not feel hot. 🍀FOR EASY STORAGE AND PORTABILITY🍀: Children's headphones feature a folding design that can fold up to help reduce their size, easy to store in your child's backpack. The earmuffs can be rotated by 90°for easy hanging on the neck. 🍀WIDE COMPATIBILITY🍀: A 3.5mm aux port including a 120cm cable gives you the option to connect directly to devices. Compatible with all Smartphones, Chromebooks, iPads, Tablets, Computers, Laptops, and all 3.5mm audio jack devices. 🍀FUN FOR KIDS🍀: Kids headphones wired has easy controls that can allow children to use them without any difficulty. Whether your little one needs school headphones for online learning, or just to jam out to their own tunes, finding the kid headphones for them is worthwhile. Lifetime Support, Easy to Reach Customer Service.\n",
      "- B0C6K1GQCF: TELSOR Wireless Earbuds for iPhone, Bluetooth Headphones Touch Control Stereo Sound Bluetooth Earbuds with Noise Cancelling Mic for Calls, 30H Playtime, IPX7 Waterproof Earbuds for Android, Black ♬【Bluetooth】Pair instantly with an uninterrupted and stable transmission with Bluetooth 5.1. AVRCP, HCP, HSP, and A2DP profiles are supported. The wireless earbuds are compatible with most Bluetooth enabled iPhones, Andriods, smart TVs, computers, etc. Each wireless earbuds will pair with each other when they are removed from the charging case. From here, enable Bluetooth on your chosen device and pair with the headphones. ♬【Clear Call & Sound quality】Each wireless earbuds features a 10mm diameter speaker and 2 microphones to reduce ambient noise and transmit your voice for a clear call in any environment. For the music enjoyers, these wireless earbuds offer a deep bass for an immersive musical experience. ♬【Long Battery Life & Quick Charge】Get up to 6 hours of playtime on a single charge or up to 30 hours when using the charging case. A full charge takes 2 hours in the charging case. The charging case itself is charged using USB-C. ♬【IPX7 Waterproof & Ergonomic Design】TELSOR wireless earbuds feature IPX7 Waterproof nano-coating to effortlessly protect the wireless earbuds from rain and sweat alike. The lightweight, ergonomic design fits in the ear without adding any discomfort or stress, making them perfect for offices, runs, and workouts. ♬【Smart Touch Control】There won't be a need to reach for your phone when using these wireless earbuds. Tapping the wireless earbuds enables you access to volume control, pause/play/skip, answer/hang up, and voice assistant. ♬【Ideal Gift】TELSOR Wireless Earbuds are great for friends and family as Birthday gifts, Valentine's Day gift etc.\n",
      "- B0BNHVLF7G: Siniffo Upgraded Bone Conduction Headphones Wireless Bluetooth 5.3 Open Ear Sports Earphones with Mic, Sweat Resistant Headset for Workout, Running, Gym, Hiking, Driving, Cycling, Commuting 【Premium Sound Quality】Experience premium audio delivered through your cheekbone with our bone conduction technology. Engineered with both audio enhancement technology and exclusive OT closed anti-leakage technology, X15 bone conduction headphones brings the immersive listening experience from deep, rich bass to accurate mids and crisp, clean highs, you’ll hear every note with a new sense of clarity. 【Extreme Comfort & Secure Fit】X15 workout headphones adopt a open-ear design with an ergonomic scientific arc, combined with a high-performance vibrator and an ultra-lightweight design. It is comfortable and painless to wear for a long time while ensuring a secure fit. In addition, X15 headphones feature IP56 waterproof rating for outdoor and indoor sports, such as running, hiking and even intense workout, etc. Recommended for small head sizes and for those who prefer a more snug fit. 【Bluetooth 5.3 & HD Call】X15 Bluetooth open-ear headphones deliver a more stable and faster wireless connection to your devices and up to 30% lower gaming latency. X15 also features noise-canceling microphone for clear and stable voice communication. Independent button controls allow you to easily adjust volume, play music, answer or end calls, activate Siri, or switch between music and game mode. 【8-Hour Battery Life & Quick Charge】Strong battery supports 8 hours of continuous music and calls. Siniffo X15 running headphones adopt Type-C quick charge and feature a 10-minute quick charge for up to 1.5 hours of listening. Enjoy your favorite music all day long! 【What You Get】1*Bone Conduction Headphones, 1*Type-C Quick Charging Cable, 4*Sponge Earplugs, 1* Manual, 30-day Return and 2-year Warranty. We care about all details, each gym headphones is tested manually. For those looking for high-quality sport headphones at a reasonable cost, we believe Siniffo X15 headset is a good choice. If you have any questions, please do not hesitate to contact us.\n",
      "- B0B14HTZ59: 8 Pairs Powerbeats Pro Ear Tips Buds, 4 Size Replacement Soft Flexible Fit in Case Noise Reduce Silicone Rubber Earbuds Eartips Wing Skin Accessories Compatible with Beats Flex/BeatsX - White 【 Compatibility 】 These ear tips compatible with Powerbeats Pro, compatible with Powerbeats High Performance, compatible with Beats Flex, compatible with Beats X, compatible with Beats Fit Pro, compatible with Beats Studio Buds. 【 Material 】 Made of soft flexible premium silicone, provide more noise isolation, in-ear stability and a lasting comfort. And They are Water-washable, durable, flexible, removable and replaceable. 【 Nice Sound Quality 】 These ear tips can offer a good seal to reduce some of the outside noise and allow you to focus on your audio, provide a better sound listening experience. 【 More Size Options, Better Fit 】 Small Medium Large and Double Flange 4 different sizes, complies comfortably with your individual ear shape. Fit in the charging case, no need to remove the foam when you put earphone into the charging case. 【 Package include 】 8 pairs replacement ear tips, tips only, earphone not include.\n",
      "- B09WCFC5D9: RUSAM GA33 A Enhanced Edition TWS Game Earbuds True Wireless Stereo Headset Low Latency Bluetooth 5.2 Headphones Wireless Deep Bass Touch Control Earbuds HD Physical Noise Cancellation Earphones,White 【Advanced Bluetooth 5.2 Technology】RUSAM GA33 A built-in Bluetooth 5.2 chip,stable connection within 10 meters, Even if you cover your ears with your hands, you won't be disconnected,smooth like a wired headset. 【Game/Music Mode】The game/music mode can be switched by key operation to meet the needs of different usage scenarios.In music mode,13mm Dual Coil Dynamic Drivers，strong bass effect,heavy and low frequency all around the ear, shock more penetrating. 【Low Latency Game Mode】45ms low latency,there is a sound effect adjustment function in the game mode,and the subtle sound can also be captured to clearly distinguish the enemy's position. 【Long battery life】Built-in 40MAH battery in the headset, 400MAH battery in the charging box, can listen to music continuously for 3-4 hours, and the charging box can be charged 4-5 times,and the play time or music time can be up to 14 hours with the charging compartment. 【Cool appearance】Cool design,supplemented by various RGB lights,beautiful colors.In the Enhanced Edition,the earphones and charging box have increased surface treatment, more delicate touch, and more enhanced details.\n",
      "- B0B67ZFRPC: QearFun Cat Earbuds for Kids, Kawakii Wired Earbud & in-Ear Headphones Gift for School Girls and Boys with Microphone and Lovely Earphones Storage Case(Blue) \n",
      "- B0B7495RL6: Cleaner Kit for AirPods Pro, 4 in 1 Earbuds Cleaning Pen, Bluetooth Headphone Cleaning Pen for Airpods, Airpods Pro 1 2 3 and Other Earphones, Keyboard, Mouse, Cellphones, Laptop, Camera (White) 【4-IN-1 DESIGN】The airpod cleaning kit is divided into 4 parts - flocking sponge, high-density brush, long-bristle brush and metal tip, which can deeply clean the earbuds and earphone charging compartment at different angles, making your earphones like new 【MULTIFUNCTIONAL CLEANING KIT】The metal tip can precisely remove the dirt in the sound hole of the earbuds, and the high-density brush under the cleaning pen tip is used to clean the fine dust. There are also flocking sponge ends and long-bristle brush ends, the earphone charging compartment can also be well cleaned, and the long-bristle end is suitable for cleaning computer peripherals such as keyboards (When replacing the flocking sponge and long-bristle brush, please rotate and pull out out) 【SAFE AND HEALTHY】 The brush end is made of environmentally friendly and soft materials, which will not damage the earbuds. Frequent cleaning of the earphones and keeping the earbuds clean can effectively improve the wearing experience and make the earphones more comfortable to wear for a long time 【PORTABLE】Segmented pen cover design, multiple functions in one, the airpods pro cleaner kit is small in size and light in weight, only the size of a pen, it can be easily put into a pocket, easy to store and carry out 【UNIVERSAL】This cleaning pen can not only clean the earphones, but also the earphone charging case, mobile phone, keyboard, mouse, microphone, camera, laptop, etc. Compatible with cleaning most bluetooth earphones, TWS on the market (If you have any questions, you can contact us by Amazon mail, to provide you with better after-sales service)\n",
      "- B0BS15TRJ3: LENRUE Bluetooth Speakers, Waterproof Portable Speakers with TWS, 24 Playtime, Stereo Sound, Wireless for Home Shower Pool Beach Outdoor ✅ ♫Loud and Crisp Sound - Upgrade 2 high quality horns, plays very clear and it can get very loud. Wthout any distortion and noise. ✅ ♫IPX6 Waterproof - Portable bluetooth speakers updates IPX6 waterproof and dustproof, portable for shower, pool, beach. The speaker cannot be completely immersed in water. ✅ ♫Portable & Hanging - Equipped with a detachable lanyard, the portable speaker can be hung on bicycles, motorcycles, backpacks, and tents. The speaker is an ideal gift. ✅ ♫Wireless Stereo Pairing - Bluetooth speakers perform powerful surround sound by connecting 2 speakers together. ✅ ♫ Multi Play Way - Wireless speakers adopt seamless Bluetooth 5.0. Support TF and AUX. Portable for phones, tablets, laptops.\n",
      "\n"
     ]
    }
   ],
   "source": [
    "preprocessed_context = process_context(retrieved_context)\n",
    "print(preprocessed_context)"
   ]
  },
  {
   "cell_type": "markdown",
   "id": "a03f3883",
   "metadata": {},
   "source": [
    "### Create Prompt funtion"
   ]
  },
  {
   "cell_type": "code",
   "execution_count": 13,
   "id": "ae269653",
   "metadata": {},
   "outputs": [],
   "source": [
    "def build_prompt(preprocessed_context, question):\n",
    "\n",
    "    prompt = f\"\"\"You are a shopping assistant that can answer questions about the products in stock.\n",
    "\n",
    "You will be given a question and a list of context.\n",
    "\n",
    "Instructions:\n",
    "- You need to answer the question based on the provided context only.\n",
    "- Never use word context and refer to it as the available products.\n",
    "\n",
    "Context:\n",
    "{preprocessed_context}\n",
    "\n",
    "Question:\n",
    "{question}\n",
    "\"\"\"\n",
    "\n",
    "    return prompt"
   ]
  },
  {
   "cell_type": "code",
   "execution_count": 14,
   "id": "b0fb59f2",
   "metadata": {},
   "outputs": [],
   "source": [
    "# print(build_prompt(preprocessed_context, \"What kind of earphones can I get?\"))"
   ]
  },
  {
   "cell_type": "code",
   "execution_count": 15,
   "id": "a7a00c2f",
   "metadata": {},
   "outputs": [
    {
     "name": "stdout",
     "output_type": "stream",
     "text": [
      "<class 'str'>\n",
      "You are a shopping assistant that can answer questions about the products in stock.\n",
      "\n",
      "You will be given a question and a list of context.\n",
      "\n",
      "Instructions:\n",
      "- You need to answer the question based on the provided context only.\n",
      "- Never use word context and refer to it as the available products.\n",
      "\n",
      "Context:\n",
      "- B0CBMPG524: Open Ear Headphones, Bluetooth 5.3 Earbuds with 60H Playtime IPX7 Waterproof Wireless Earbuds Immersive Premium Sound True Wireless Open Ear Earbuds with Earhooks for Running, Walking and Workouts 【Open-ear Design Headphones】Feature with a new generation of true open-ear wireless earbuds design, the headphones can rest gently and firmly fit your ears without entering your ear canal, which will reduce stress and hearing loss after extended wear. There is no pinching of the auricle, no blockage of the ear canal, and no pain or damage to hearing. 【Powerful Stereo Sound】Equipped with 16.2 millimeters vibrating diaphragm speaker driver, bluetooth headphones providing pure balanced audio and clarity output for all music genres with soft audio and immerse yourself in the wonderful world of music. 【Hear Your Surroundings】Open earbuds that rest on your ears without covering them, you can hear your music and your surroundings at the same time. Whether you are cycling, walking, running, working out or driving, you can always be aware of your surroundings, knowing you are safe and alert for changes in your environment. 【Comfort and Secure Fit】 The open earbuds can avoid wearing discomfort caused by in-ear or over-ear headphones. Flexible, secure-fitting silicone ear hooks and an ergonomic design ensure the bluetooth earphones stay comfortable and secure during hiking, running and other outdoor activities. 【Charge on the go & IPX7 Waterproof】Earbuds last 11 hours of playback time with one charge and can be extended up to 60 hours with a portable charging case in use. Plus, wireless headphones boast IPX7-rated protection that prevents ordinary splashing water and rain. (Please note: The charging case is not waterproof)\n",
      "- B0B9FTVL58: Wireless Earbuds, Bluetooth 5.3 Headphones with Microphone, 37H Playback LED Power Display, In-Ear Headphones Deep Bass, IPX7 Waterproof, Ultra-Light Earphones with Charging Case, Smart Touch, Sport S23-vine earbuds\n",
      "- B0C142QS8X: TUNEAKE Kids Headphones, Over Ear Kids Headset Stereo, Volume Limited 94dB, Foldable Adjustable Headphones for Kids, 3.5mm Jack Kid Headphones for Boys Girls Toddler School Laptop Travel Tablet, Pink 🍀LISTENING VOLUME🍀: Designed with 94dB volume-limiting technology, kids headphones offer adequate hearing protection that your child cannot listen to music or watch videos at dangerously high levels. Kids headphones for school NOTE: NO microphone, but you can still speak into the device's mic that you are plugged into and will hear you. 🍀KID-SIZED FOR COMFORT🍀: The padded headband and soft ear cups on the kids headphones boys provides a comfy fit for kids. The adjustable headband makes it well-suited to your child. With cushy, perforated mesh on the cushioned cups, your child's head will not feel hot. 🍀FOR EASY STORAGE AND PORTABILITY🍀: Children's headphones feature a folding design that can fold up to help reduce their size, easy to store in your child's backpack. The earmuffs can be rotated by 90°for easy hanging on the neck. 🍀WIDE COMPATIBILITY🍀: A 3.5mm aux port including a 120cm cable gives you the option to connect directly to devices. Compatible with all Smartphones, Chromebooks, iPads, Tablets, Computers, Laptops, and all 3.5mm audio jack devices. 🍀FUN FOR KIDS🍀: Kids headphones wired has easy controls that can allow children to use them without any difficulty. Whether your little one needs school headphones for online learning, or just to jam out to their own tunes, finding the kid headphones for them is worthwhile. Lifetime Support, Easy to Reach Customer Service.\n",
      "- B0C6K1GQCF: TELSOR Wireless Earbuds for iPhone, Bluetooth Headphones Touch Control Stereo Sound Bluetooth Earbuds with Noise Cancelling Mic for Calls, 30H Playtime, IPX7 Waterproof Earbuds for Android, Black ♬【Bluetooth】Pair instantly with an uninterrupted and stable transmission with Bluetooth 5.1. AVRCP, HCP, HSP, and A2DP profiles are supported. The wireless earbuds are compatible with most Bluetooth enabled iPhones, Andriods, smart TVs, computers, etc. Each wireless earbuds will pair with each other when they are removed from the charging case. From here, enable Bluetooth on your chosen device and pair with the headphones. ♬【Clear Call & Sound quality】Each wireless earbuds features a 10mm diameter speaker and 2 microphones to reduce ambient noise and transmit your voice for a clear call in any environment. For the music enjoyers, these wireless earbuds offer a deep bass for an immersive musical experience. ♬【Long Battery Life & Quick Charge】Get up to 6 hours of playtime on a single charge or up to 30 hours when using the charging case. A full charge takes 2 hours in the charging case. The charging case itself is charged using USB-C. ♬【IPX7 Waterproof & Ergonomic Design】TELSOR wireless earbuds feature IPX7 Waterproof nano-coating to effortlessly protect the wireless earbuds from rain and sweat alike. The lightweight, ergonomic design fits in the ear without adding any discomfort or stress, making them perfect for offices, runs, and workouts. ♬【Smart Touch Control】There won't be a need to reach for your phone when using these wireless earbuds. Tapping the wireless earbuds enables you access to volume control, pause/play/skip, answer/hang up, and voice assistant. ♬【Ideal Gift】TELSOR Wireless Earbuds are great for friends and family as Birthday gifts, Valentine's Day gift etc.\n",
      "- B0BNHVLF7G: Siniffo Upgraded Bone Conduction Headphones Wireless Bluetooth 5.3 Open Ear Sports Earphones with Mic, Sweat Resistant Headset for Workout, Running, Gym, Hiking, Driving, Cycling, Commuting 【Premium Sound Quality】Experience premium audio delivered through your cheekbone with our bone conduction technology. Engineered with both audio enhancement technology and exclusive OT closed anti-leakage technology, X15 bone conduction headphones brings the immersive listening experience from deep, rich bass to accurate mids and crisp, clean highs, you’ll hear every note with a new sense of clarity. 【Extreme Comfort & Secure Fit】X15 workout headphones adopt a open-ear design with an ergonomic scientific arc, combined with a high-performance vibrator and an ultra-lightweight design. It is comfortable and painless to wear for a long time while ensuring a secure fit. In addition, X15 headphones feature IP56 waterproof rating for outdoor and indoor sports, such as running, hiking and even intense workout, etc. Recommended for small head sizes and for those who prefer a more snug fit. 【Bluetooth 5.3 & HD Call】X15 Bluetooth open-ear headphones deliver a more stable and faster wireless connection to your devices and up to 30% lower gaming latency. X15 also features noise-canceling microphone for clear and stable voice communication. Independent button controls allow you to easily adjust volume, play music, answer or end calls, activate Siri, or switch between music and game mode. 【8-Hour Battery Life & Quick Charge】Strong battery supports 8 hours of continuous music and calls. Siniffo X15 running headphones adopt Type-C quick charge and feature a 10-minute quick charge for up to 1.5 hours of listening. Enjoy your favorite music all day long! 【What You Get】1*Bone Conduction Headphones, 1*Type-C Quick Charging Cable, 4*Sponge Earplugs, 1* Manual, 30-day Return and 2-year Warranty. We care about all details, each gym headphones is tested manually. For those looking for high-quality sport headphones at a reasonable cost, we believe Siniffo X15 headset is a good choice. If you have any questions, please do not hesitate to contact us.\n",
      "- B0B14HTZ59: 8 Pairs Powerbeats Pro Ear Tips Buds, 4 Size Replacement Soft Flexible Fit in Case Noise Reduce Silicone Rubber Earbuds Eartips Wing Skin Accessories Compatible with Beats Flex/BeatsX - White 【 Compatibility 】 These ear tips compatible with Powerbeats Pro, compatible with Powerbeats High Performance, compatible with Beats Flex, compatible with Beats X, compatible with Beats Fit Pro, compatible with Beats Studio Buds. 【 Material 】 Made of soft flexible premium silicone, provide more noise isolation, in-ear stability and a lasting comfort. And They are Water-washable, durable, flexible, removable and replaceable. 【 Nice Sound Quality 】 These ear tips can offer a good seal to reduce some of the outside noise and allow you to focus on your audio, provide a better sound listening experience. 【 More Size Options, Better Fit 】 Small Medium Large and Double Flange 4 different sizes, complies comfortably with your individual ear shape. Fit in the charging case, no need to remove the foam when you put earphone into the charging case. 【 Package include 】 8 pairs replacement ear tips, tips only, earphone not include.\n",
      "- B09WCFC5D9: RUSAM GA33 A Enhanced Edition TWS Game Earbuds True Wireless Stereo Headset Low Latency Bluetooth 5.2 Headphones Wireless Deep Bass Touch Control Earbuds HD Physical Noise Cancellation Earphones,White 【Advanced Bluetooth 5.2 Technology】RUSAM GA33 A built-in Bluetooth 5.2 chip,stable connection within 10 meters, Even if you cover your ears with your hands, you won't be disconnected,smooth like a wired headset. 【Game/Music Mode】The game/music mode can be switched by key operation to meet the needs of different usage scenarios.In music mode,13mm Dual Coil Dynamic Drivers，strong bass effect,heavy and low frequency all around the ear, shock more penetrating. 【Low Latency Game Mode】45ms low latency,there is a sound effect adjustment function in the game mode,and the subtle sound can also be captured to clearly distinguish the enemy's position. 【Long battery life】Built-in 40MAH battery in the headset, 400MAH battery in the charging box, can listen to music continuously for 3-4 hours, and the charging box can be charged 4-5 times,and the play time or music time can be up to 14 hours with the charging compartment. 【Cool appearance】Cool design,supplemented by various RGB lights,beautiful colors.In the Enhanced Edition,the earphones and charging box have increased surface treatment, more delicate touch, and more enhanced details.\n",
      "- B0B67ZFRPC: QearFun Cat Earbuds for Kids, Kawakii Wired Earbud & in-Ear Headphones Gift for School Girls and Boys with Microphone and Lovely Earphones Storage Case(Blue) \n",
      "- B0B7495RL6: Cleaner Kit for AirPods Pro, 4 in 1 Earbuds Cleaning Pen, Bluetooth Headphone Cleaning Pen for Airpods, Airpods Pro 1 2 3 and Other Earphones, Keyboard, Mouse, Cellphones, Laptop, Camera (White) 【4-IN-1 DESIGN】The airpod cleaning kit is divided into 4 parts - flocking sponge, high-density brush, long-bristle brush and metal tip, which can deeply clean the earbuds and earphone charging compartment at different angles, making your earphones like new 【MULTIFUNCTIONAL CLEANING KIT】The metal tip can precisely remove the dirt in the sound hole of the earbuds, and the high-density brush under the cleaning pen tip is used to clean the fine dust. There are also flocking sponge ends and long-bristle brush ends, the earphone charging compartment can also be well cleaned, and the long-bristle end is suitable for cleaning computer peripherals such as keyboards (When replacing the flocking sponge and long-bristle brush, please rotate and pull out out) 【SAFE AND HEALTHY】 The brush end is made of environmentally friendly and soft materials, which will not damage the earbuds. Frequent cleaning of the earphones and keeping the earbuds clean can effectively improve the wearing experience and make the earphones more comfortable to wear for a long time 【PORTABLE】Segmented pen cover design, multiple functions in one, the airpods pro cleaner kit is small in size and light in weight, only the size of a pen, it can be easily put into a pocket, easy to store and carry out 【UNIVERSAL】This cleaning pen can not only clean the earphones, but also the earphone charging case, mobile phone, keyboard, mouse, microphone, camera, laptop, etc. Compatible with cleaning most bluetooth earphones, TWS on the market (If you have any questions, you can contact us by Amazon mail, to provide you with better after-sales service)\n",
      "- B0BS15TRJ3: LENRUE Bluetooth Speakers, Waterproof Portable Speakers with TWS, 24 Playtime, Stereo Sound, Wireless for Home Shower Pool Beach Outdoor ✅ ♫Loud and Crisp Sound - Upgrade 2 high quality horns, plays very clear and it can get very loud. Wthout any distortion and noise. ✅ ♫IPX6 Waterproof - Portable bluetooth speakers updates IPX6 waterproof and dustproof, portable for shower, pool, beach. The speaker cannot be completely immersed in water. ✅ ♫Portable & Hanging - Equipped with a detachable lanyard, the portable speaker can be hung on bicycles, motorcycles, backpacks, and tents. The speaker is an ideal gift. ✅ ♫Wireless Stereo Pairing - Bluetooth speakers perform powerful surround sound by connecting 2 speakers together. ✅ ♫ Multi Play Way - Wireless speakers adopt seamless Bluetooth 5.0. Support TF and AUX. Portable for phones, tablets, laptops.\n",
      "\n",
      "\n",
      "Question:\n",
      "What kind of earphones can I get?\n",
      "\n"
     ]
    }
   ],
   "source": [
    "prompt = build_prompt(preprocessed_context, \"What kind of earphones can I get?\")\n",
    "print(type(prompt))\n",
    "print(prompt)\n"
   ]
  },
  {
   "cell_type": "markdown",
   "id": "e4636a30",
   "metadata": {},
   "source": [
    "### Generate Answer function"
   ]
  },
  {
   "cell_type": "code",
   "execution_count": 16,
   "id": "5f87963d",
   "metadata": {},
   "outputs": [],
   "source": [
    "def generate_answer(prompt):\n",
    "\n",
    "    response = openai.chat.completions.create(\n",
    "        model=\"gpt-4.1-mini\",\n",
    "        messages=[{\"role\":\"system\", \"content\": prompt},],\n",
    "        temperature=0.5,\n",
    "    )\n",
    "\n",
    "    return response.choices[0].message.content"
   ]
  },
  {
   "cell_type": "code",
   "execution_count": 17,
   "id": "e1d3cbd0",
   "metadata": {},
   "outputs": [
    {
     "data": {
      "text/plain": [
       "\"You are a shopping assistant that can answer questions about the products in stock.\\n\\nYou will be given a question and a list of context.\\n\\nInstructions:\\n- You need to answer the question based on the provided context only.\\n- Never use word context and refer to it as the available products.\\n\\nContext:\\n- B0CBMPG524: Open Ear Headphones, Bluetooth 5.3 Earbuds with 60H Playtime IPX7 Waterproof Wireless Earbuds Immersive Premium Sound True Wireless Open Ear Earbuds with Earhooks for Running, Walking and Workouts 【Open-ear Design Headphones】Feature with a new generation of true open-ear wireless earbuds design, the headphones can rest gently and firmly fit your ears without entering your ear canal, which will reduce stress and hearing loss after extended wear. There is no pinching of the auricle, no blockage of the ear canal, and no pain or damage to hearing. 【Powerful Stereo Sound】Equipped with 16.2 millimeters vibrating diaphragm speaker driver, bluetooth headphones providing pure balanced audio and clarity output for all music genres with soft audio and immerse yourself in the wonderful world of music. 【Hear Your Surroundings】Open earbuds that rest on your ears without covering them, you can hear your music and your surroundings at the same time. Whether you are cycling, walking, running, working out or driving, you can always be aware of your surroundings, knowing you are safe and alert for changes in your environment. 【Comfort and Secure Fit】 The open earbuds can avoid wearing discomfort caused by in-ear or over-ear headphones. Flexible, secure-fitting silicone ear hooks and an ergonomic design ensure the bluetooth earphones stay comfortable and secure during hiking, running and other outdoor activities. 【Charge on the go & IPX7 Waterproof】Earbuds last 11 hours of playback time with one charge and can be extended up to 60 hours with a portable charging case in use. Plus, wireless headphones boast IPX7-rated protection that prevents ordinary splashing water and rain. (Please note: The charging case is not waterproof)\\n- B0B9FTVL58: Wireless Earbuds, Bluetooth 5.3 Headphones with Microphone, 37H Playback LED Power Display, In-Ear Headphones Deep Bass, IPX7 Waterproof, Ultra-Light Earphones with Charging Case, Smart Touch, Sport S23-vine earbuds\\n- B0C142QS8X: TUNEAKE Kids Headphones, Over Ear Kids Headset Stereo, Volume Limited 94dB, Foldable Adjustable Headphones for Kids, 3.5mm Jack Kid Headphones for Boys Girls Toddler School Laptop Travel Tablet, Pink 🍀LISTENING VOLUME🍀: Designed with 94dB volume-limiting technology, kids headphones offer adequate hearing protection that your child cannot listen to music or watch videos at dangerously high levels. Kids headphones for school NOTE: NO microphone, but you can still speak into the device's mic that you are plugged into and will hear you. 🍀KID-SIZED FOR COMFORT🍀: The padded headband and soft ear cups on the kids headphones boys provides a comfy fit for kids. The adjustable headband makes it well-suited to your child. With cushy, perforated mesh on the cushioned cups, your child's head will not feel hot. 🍀FOR EASY STORAGE AND PORTABILITY🍀: Children's headphones feature a folding design that can fold up to help reduce their size, easy to store in your child's backpack. The earmuffs can be rotated by 90°for easy hanging on the neck. 🍀WIDE COMPATIBILITY🍀: A 3.5mm aux port including a 120cm cable gives you the option to connect directly to devices. Compatible with all Smartphones, Chromebooks, iPads, Tablets, Computers, Laptops, and all 3.5mm audio jack devices. 🍀FUN FOR KIDS🍀: Kids headphones wired has easy controls that can allow children to use them without any difficulty. Whether your little one needs school headphones for online learning, or just to jam out to their own tunes, finding the kid headphones for them is worthwhile. Lifetime Support, Easy to Reach Customer Service.\\n- B0C6K1GQCF: TELSOR Wireless Earbuds for iPhone, Bluetooth Headphones Touch Control Stereo Sound Bluetooth Earbuds with Noise Cancelling Mic for Calls, 30H Playtime, IPX7 Waterproof Earbuds for Android, Black ♬【Bluetooth】Pair instantly with an uninterrupted and stable transmission with Bluetooth 5.1. AVRCP, HCP, HSP, and A2DP profiles are supported. The wireless earbuds are compatible with most Bluetooth enabled iPhones, Andriods, smart TVs, computers, etc. Each wireless earbuds will pair with each other when they are removed from the charging case. From here, enable Bluetooth on your chosen device and pair with the headphones. ♬【Clear Call & Sound quality】Each wireless earbuds features a 10mm diameter speaker and 2 microphones to reduce ambient noise and transmit your voice for a clear call in any environment. For the music enjoyers, these wireless earbuds offer a deep bass for an immersive musical experience. ♬【Long Battery Life & Quick Charge】Get up to 6 hours of playtime on a single charge or up to 30 hours when using the charging case. A full charge takes 2 hours in the charging case. The charging case itself is charged using USB-C. ♬【IPX7 Waterproof & Ergonomic Design】TELSOR wireless earbuds feature IPX7 Waterproof nano-coating to effortlessly protect the wireless earbuds from rain and sweat alike. The lightweight, ergonomic design fits in the ear without adding any discomfort or stress, making them perfect for offices, runs, and workouts. ♬【Smart Touch Control】There won't be a need to reach for your phone when using these wireless earbuds. Tapping the wireless earbuds enables you access to volume control, pause/play/skip, answer/hang up, and voice assistant. ♬【Ideal Gift】TELSOR Wireless Earbuds are great for friends and family as Birthday gifts, Valentine's Day gift etc.\\n- B0BNHVLF7G: Siniffo Upgraded Bone Conduction Headphones Wireless Bluetooth 5.3 Open Ear Sports Earphones with Mic, Sweat Resistant Headset for Workout, Running, Gym, Hiking, Driving, Cycling, Commuting 【Premium Sound Quality】Experience premium audio delivered through your cheekbone with our bone conduction technology. Engineered with both audio enhancement technology and exclusive OT closed anti-leakage technology, X15 bone conduction headphones brings the immersive listening experience from deep, rich bass to accurate mids and crisp, clean highs, you’ll hear every note with a new sense of clarity. 【Extreme Comfort & Secure Fit】X15 workout headphones adopt a open-ear design with an ergonomic scientific arc, combined with a high-performance vibrator and an ultra-lightweight design. It is comfortable and painless to wear for a long time while ensuring a secure fit. In addition, X15 headphones feature IP56 waterproof rating for outdoor and indoor sports, such as running, hiking and even intense workout, etc. Recommended for small head sizes and for those who prefer a more snug fit. 【Bluetooth 5.3 & HD Call】X15 Bluetooth open-ear headphones deliver a more stable and faster wireless connection to your devices and up to 30% lower gaming latency. X15 also features noise-canceling microphone for clear and stable voice communication. Independent button controls allow you to easily adjust volume, play music, answer or end\\xa0calls, activate Siri, or switch between music and game mode. 【8-Hour Battery Life & Quick Charge】Strong battery supports 8 hours of continuous music and calls. Siniffo X15 running headphones adopt Type-C quick charge and feature a 10-minute quick charge for up to 1.5 hours of listening. Enjoy your favorite music all day long! 【What You Get】1*Bone Conduction Headphones, 1*Type-C Quick Charging Cable, 4*Sponge Earplugs, 1* Manual, 30-day Return and 2-year Warranty. We care about all details, each gym headphones is tested manually. For those looking for high-quality sport headphones at a reasonable cost, we believe Siniffo X15 headset is a good choice. If you have any questions, please do not hesitate to contact us.\\n- B0B14HTZ59: 8 Pairs Powerbeats Pro Ear Tips Buds, 4 Size Replacement Soft Flexible Fit in Case Noise Reduce Silicone Rubber Earbuds Eartips Wing Skin Accessories Compatible with Beats Flex/BeatsX - White 【 Compatibility 】 These ear tips compatible with Powerbeats Pro, compatible with Powerbeats High Performance, compatible with Beats Flex, compatible with Beats X, compatible with Beats Fit Pro, compatible with Beats Studio Buds. 【 Material 】 Made of soft flexible premium silicone, provide more noise isolation, in-ear stability and a lasting comfort. And They are Water-washable, durable, flexible, removable and replaceable. 【 Nice Sound Quality 】 These ear tips can offer a good seal to reduce some of the outside noise and allow you to focus on your audio, provide a better sound listening experience. 【 More Size Options, Better Fit 】 Small Medium Large and Double Flange 4 different sizes, complies comfortably with your individual ear shape. Fit in the charging case, no need to remove the foam when you put earphone into the charging case. 【 Package include 】 8 pairs replacement ear tips, tips only, earphone not include.\\n- B09WCFC5D9: RUSAM GA33 A Enhanced Edition TWS Game Earbuds True Wireless Stereo Headset Low Latency Bluetooth 5.2 Headphones Wireless Deep Bass Touch Control Earbuds HD Physical Noise Cancellation Earphones,White 【Advanced Bluetooth 5.2 Technology】RUSAM GA33 A built-in Bluetooth 5.2 chip,stable connection within 10 meters, Even if you cover your ears with your hands, you won't be disconnected,smooth like a wired headset. 【Game/Music Mode】The game/music mode can be switched by key operation to meet the needs of different usage scenarios.In music mode,13mm Dual Coil Dynamic Drivers，strong bass effect,heavy and low frequency all around the ear, shock more penetrating. 【Low Latency Game Mode】45ms low latency,there is a sound effect adjustment function in the game mode,and the subtle sound can also be captured to clearly distinguish the enemy's position. 【Long battery life】Built-in 40MAH battery in the headset, 400MAH battery in the charging box, can listen to music continuously for 3-4 hours, and the charging box can be charged 4-5 times,and the play time or music time can be up to 14 hours with the charging compartment. 【Cool appearance】Cool design,supplemented by various RGB lights,beautiful colors.In the Enhanced Edition,the earphones and charging box have increased surface treatment, more delicate touch, and more enhanced details.\\n- B0B67ZFRPC: QearFun Cat Earbuds for Kids, Kawakii Wired Earbud & in-Ear Headphones Gift for School Girls and Boys with Microphone and Lovely Earphones Storage Case(Blue) \\n- B0B7495RL6: Cleaner Kit for AirPods Pro, 4 in 1 Earbuds Cleaning Pen, Bluetooth Headphone Cleaning Pen for Airpods, Airpods Pro 1 2 3 and Other Earphones, Keyboard, Mouse, Cellphones, Laptop, Camera (White) 【4-IN-1 DESIGN】The airpod cleaning kit is divided into 4 parts - flocking sponge, high-density brush, long-bristle brush and metal tip, which can deeply clean the earbuds and earphone charging compartment at different angles, making your earphones like new 【MULTIFUNCTIONAL CLEANING KIT】The metal tip can precisely remove the dirt in the sound hole of the earbuds, and the high-density brush under the cleaning pen tip is used to clean the fine dust. There are also flocking sponge ends and long-bristle brush ends, the earphone charging compartment can also be well cleaned, and the long-bristle end is suitable for cleaning computer peripherals such as keyboards (When replacing the flocking sponge and long-bristle brush, please rotate and pull out out) 【SAFE AND HEALTHY】 The brush end is made of environmentally friendly and soft materials, which will not damage the earbuds. Frequent cleaning of the earphones and keeping the earbuds clean can effectively improve the wearing experience and make the earphones more comfortable to wear for a long time 【PORTABLE】Segmented pen cover design, multiple functions in one, the airpods pro cleaner kit is small in size and light in weight, only the size of a pen, it can be easily put into a pocket, easy to store and carry out 【UNIVERSAL】This cleaning pen can not only clean the earphones, but also the earphone charging case, mobile phone, keyboard, mouse, microphone, camera, laptop, etc. Compatible with cleaning most bluetooth earphones, TWS on the market (If you have any questions, you can contact us by Amazon mail, to provide you with better after-sales service)\\n- B0BS15TRJ3: LENRUE Bluetooth Speakers, Waterproof Portable Speakers with TWS, 24 Playtime, Stereo Sound, Wireless for Home Shower Pool Beach Outdoor ✅ ♫Loud and Crisp Sound - Upgrade 2 high quality horns, plays very clear and it can get very loud. Wthout any distortion and noise. ✅ ♫IPX6 Waterproof - Portable bluetooth speakers updates IPX6 waterproof and dustproof, portable for shower, pool, beach. The speaker cannot be completely immersed in water. ✅ ♫Portable & Hanging - Equipped with a detachable lanyard, the portable speaker can be hung on bicycles, motorcycles, backpacks, and tents. The speaker is an ideal gift. ✅ ♫Wireless Stereo Pairing - Bluetooth speakers perform powerful surround sound by connecting 2 speakers together. ✅ ♫ Multi Play Way - Wireless speakers adopt seamless Bluetooth 5.0. Support TF and AUX. Portable for phones, tablets, laptops.\\n\\n\\nQuestion:\\nWhat kind of earphones can I get?\\n\""
      ]
     },
     "execution_count": 17,
     "metadata": {},
     "output_type": "execute_result"
    }
   ],
   "source": [
    "prompt"
   ]
  },
  {
   "cell_type": "code",
   "execution_count": 18,
   "id": "4193690f",
   "metadata": {},
   "outputs": [
    {
     "name": "stdout",
     "output_type": "stream",
     "text": [
      "You can get various types of earphones from the available products, including:\n",
      "\n",
      "1. Open Ear Headphones: Bluetooth 5.3 open-ear wireless earbuds that rest gently on your ears without entering the ear canal, providing safety and comfort for activities like running, walking, and workouts (Product B0CBMPG524).\n",
      "\n",
      "2. Wireless In-Ear Earbuds: Bluetooth 5.3 earbuds with microphone, deep bass, LED power display, IPX7 waterproof rating, smart touch controls, and long playback time suitable for sports and everyday use (Product B0B9FTVL58).\n",
      "\n",
      "3. Kids Headphones: Over-ear wired headphones for kids with volume limited to 94dB for hearing protection, adjustable and foldable design, compatible with devices with a 3.5mm jack (Product B0C142QS8X).\n",
      "\n",
      "4. Wireless Bluetooth Earbuds for iPhone and Android: Bluetooth 5.1 earbuds with noise-canceling mic, touch control, deep bass, IPX7 waterproof, and long battery life with charging case (Product B0C6K1GQCF).\n",
      "\n",
      "5. Bone Conduction Headphones: Wireless Bluetooth 5.3 open-ear sports earphones with mic, sweat-resistant, ergonomic design, noise-canceling microphone, and IP56 waterproof rating, suitable for workouts and outdoor activities (Product B0BNHVLF7G).\n",
      "\n",
      "6. Gaming Earbuds: True wireless stereo earbuds with Bluetooth 5.2, low latency for gaming, deep bass, touch control, and moderate battery life with charging case (Product B09WCFC5D9).\n",
      "\n",
      "7. Wired Earbuds for Kids: Wired in-ear headphones with microphone, designed as a gift for school kids, with a cute design and storage case (Product B0B67ZFRPC).\n",
      "\n",
      "These options cover a range of needs from kids' headphones, workout and sports earphones, open-ear designs for safety, to gaming and general wireless earbuds.\n"
     ]
    }
   ],
   "source": [
    "print(generate_answer(prompt))"
   ]
  },
  {
   "cell_type": "markdown",
   "id": "81d19d0c",
   "metadata": {},
   "source": [
    "### Combined RAG Pipeline"
   ]
  },
  {
   "cell_type": "code",
   "execution_count": 19,
   "id": "d130e316",
   "metadata": {},
   "outputs": [],
   "source": [
    "def rag_pipeline(question, top_k=5):\n",
    "\n",
    "    qdrant_client = QdrantClient(url=\"http://localhost:6333\")\n",
    "\n",
    "    retrieved_context = retrieve_data(question, qdrant_client, top_k)\n",
    "    preprocessed_context = process_context(retrieved_context)\n",
    "    prompt = build_prompt(preprocessed_context, question)\n",
    "    answer = generate_answer(prompt)\n",
    "\n",
    "    return answer"
   ]
  },
  {
   "cell_type": "code",
   "execution_count": 20,
   "id": "85f749aa",
   "metadata": {},
   "outputs": [
    {
     "name": "stdout",
     "output_type": "stream",
     "text": [
      "The available computer accessories include:\n",
      "\n",
      "1. Wireless Keyboard and Mouse Combo (B09PYFMTBF) - A 2.4G wireless set with retro round keys, slim and quiet design, compatible with Windows computers and laptops.\n",
      "\n",
      "2. Bextsrack Monitor Stand Riser (B09XCKYXR8) - A metal desktop stand for monitors, laptops, printers, and other devices that helps elevate the screen for better ergonomics and prevents overheating.\n",
      "\n",
      "3. Cleaner Kit for AirPods Pro and other devices (B0B7495RL6) - A 4-in-1 cleaning pen designed for cleaning earbuds, keyboards, mice, cellphones, laptops, and cameras.\n",
      "\n",
      "These accessories help enhance the computer setup by providing input devices, ergonomic support, and cleaning tools.\n"
     ]
    }
   ],
   "source": [
    "print(rag_pipeline(\"What different computer accessories ae there?\"))"
   ]
  },
  {
   "cell_type": "code",
   "execution_count": null,
   "id": "98ed5270",
   "metadata": {},
   "outputs": [],
   "source": []
  }
 ],
 "metadata": {
  "kernelspec": {
   "display_name": "venv",
   "language": "python",
   "name": "python3"
  },
  "language_info": {
   "codemirror_mode": {
    "name": "ipython",
    "version": 3
   },
   "file_extension": ".py",
   "mimetype": "text/x-python",
   "name": "python",
   "nbconvert_exporter": "python",
   "pygments_lexer": "ipython3",
   "version": "3.12.10"
  }
 },
 "nbformat": 4,
 "nbformat_minor": 5
}
